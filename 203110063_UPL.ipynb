{
  "cells": [
    {
      "cell_type": "markdown",
      "metadata": {
        "id": "Hl2sq6fL55FC"
      },
      "source": [
        "## Transfer Learning Inception V3 using Keras"
      ]
    },
    {
      "cell_type": "markdown",
      "metadata": {
        "id": "VHvz6vqU55FJ"
      },
      "source": [
        "Please download the dataset from the below url"
      ]
    },
    {
      "cell_type": "code",
      "execution_count": 46,
      "metadata": {
        "id": "uq9HYg7Y55FM",
        "colab": {
          "base_uri": "https://localhost:8080/"
        },
        "outputId": "e693f110-9c95-42cf-aa50-6816da5a1f0f"
      },
      "outputs": [
        {
          "output_type": "stream",
          "name": "stderr",
          "text": [
            "/usr/local/lib/python3.7/dist-packages/tensorflow/python/client/session.py:1771: UserWarning: An interactive session is already active. This can cause out-of-memory errors in some cases. You must explicitly call `InteractiveSession.close()` to release resources held by the other session(s).\n",
            "  warnings.warn('An interactive session is already active. This can '\n"
          ]
        }
      ],
      "source": [
        "from tensorflow.compat.v1 import ConfigProto\n",
        "from tensorflow.compat.v1 import InteractiveSession\n",
        "\n",
        "config = ConfigProto()\n",
        "config.gpu_options.per_process_gpu_memory_fraction = 0.5\n",
        "config.gpu_options.allow_growth = True\n",
        "session = InteractiveSession(config=config)"
      ]
    },
    {
      "cell_type": "code",
      "source": [
        "from tensorflow.keras.optimizers import RMSprop\n",
        "from tensorflow.keras.preprocessing.image import ImageDataGenerator\n",
        "import cv2\n",
        "from tensorflow.keras.models import Sequential\n",
        "from tensorflow.keras.layers import Conv2D, Input, ZeroPadding2D, BatchNormalization, Activation, MaxPooling2D, Flatten, Dense,Dropout\n",
        "from tensorflow.keras.models import Model, load_model\n",
        "from tensorflow.keras.callbacks import TensorBoard, ModelCheckpoint\n",
        "from sklearn.model_selection import train_test_split\n",
        "from sklearn.metrics import f1_score\n",
        "from sklearn.utils import shuffle\n",
        "import imutils\n",
        "import numpy as np\n",
        "import tensorflow as tf"
      ],
      "metadata": {
        "id": "syB5eHgAEppT"
      },
      "execution_count": 47,
      "outputs": []
    },
    {
      "cell_type": "code",
      "source": [
        "!nvidia-smi"
      ],
      "metadata": {
        "colab": {
          "base_uri": "https://localhost:8080/"
        },
        "id": "Wu9CfZnX58uy",
        "outputId": "dbe7ed23-d2f3-44c1-ded7-3d3abc329b56"
      },
      "execution_count": 48,
      "outputs": [
        {
          "output_type": "stream",
          "name": "stdout",
          "text": [
            "Fri Feb  4 05:00:18 2022       \n",
            "+-----------------------------------------------------------------------------+\n",
            "| NVIDIA-SMI 460.32.03    Driver Version: 460.32.03    CUDA Version: 11.2     |\n",
            "|-------------------------------+----------------------+----------------------+\n",
            "| GPU  Name        Persistence-M| Bus-Id        Disp.A | Volatile Uncorr. ECC |\n",
            "| Fan  Temp  Perf  Pwr:Usage/Cap|         Memory-Usage | GPU-Util  Compute M. |\n",
            "|                               |                      |               MIG M. |\n",
            "|===============================+======================+======================|\n",
            "|   0  Tesla K80           Off  | 00000000:00:04.0 Off |                    0 |\n",
            "| N/A   45C    P0    60W / 149W |   2324MiB / 11441MiB |      0%      Default |\n",
            "|                               |                      |                  N/A |\n",
            "+-------------------------------+----------------------+----------------------+\n",
            "                                                                               \n",
            "+-----------------------------------------------------------------------------+\n",
            "| Processes:                                                                  |\n",
            "|  GPU   GI   CI        PID   Type   Process name                  GPU Memory |\n",
            "|        ID   ID                                                   Usage      |\n",
            "|=============================================================================|\n",
            "+-----------------------------------------------------------------------------+\n"
          ]
        }
      ]
    },
    {
      "cell_type": "code",
      "source": [
        "from google.colab import drive\n",
        "drive.mount('/content/drive')"
      ],
      "metadata": {
        "colab": {
          "base_uri": "https://localhost:8080/"
        },
        "id": "Af0u7H9m5_nt",
        "outputId": "3ac27500-f634-414b-ba15-b001ac90aeab"
      },
      "execution_count": 49,
      "outputs": [
        {
          "output_type": "stream",
          "name": "stdout",
          "text": [
            "Drive already mounted at /content/drive; to attempt to forcibly remount, call drive.mount(\"/content/drive\", force_remount=True).\n"
          ]
        }
      ]
    },
    {
      "cell_type": "code",
      "execution_count": 50,
      "metadata": {
        "id": "MfexEE0p55FO"
      },
      "outputs": [],
      "source": [
        "# import the libraries as shown below\n",
        "\n",
        "from tensorflow.keras.layers import Input, Lambda, Dense, Flatten\n",
        "from tensorflow.keras.models import Model\n",
        "from tensorflow.keras.applications.inception_v3 import InceptionV3\n",
        "#from keras.applications.vgg16 import VGG16\n",
        "from tensorflow.keras.applications.inception_v3 import preprocess_input\n",
        "from tensorflow.keras.preprocessing import image\n",
        "from tensorflow.keras.preprocessing.image import ImageDataGenerator,load_img\n",
        "from tensorflow.keras.models import Sequential\n",
        "import numpy as np\n",
        "from glob import glob\n",
        "import matplotlib.pyplot as plt"
      ]
    },
    {
      "cell_type": "code",
      "execution_count": 51,
      "metadata": {
        "id": "4SXdrOcK55FR"
      },
      "outputs": [],
      "source": [
        "# re-size all the images to this\n",
        "IMAGE_SIZE = [224, 224]\n",
        "\n",
        "train_path = '/content/drive/MyDrive/insect/UPL Assignment/training_images'\n",
        "valid_path = '/content/drive/MyDrive/insect/UPL Assignment/testing_images'\n"
      ]
    },
    {
      "cell_type": "code",
      "execution_count": 52,
      "metadata": {
        "id": "PKQXeQRe55FS"
      },
      "outputs": [],
      "source": [
        "# Import the Vgg 16 library as shown below and add preprocessing layer to the front of VGG\n",
        "# Here we will be using imagenet weights\n",
        "\n",
        "inception = InceptionV3(input_shape=IMAGE_SIZE + [3], weights='imagenet', include_top=False)\n",
        "\n",
        "\n"
      ]
    },
    {
      "cell_type": "code",
      "execution_count": 53,
      "metadata": {
        "id": "olCmTLhZ55Fu"
      },
      "outputs": [],
      "source": [
        "# don't train existing weights\n",
        "for layer in inception.layers:\n",
        "    layer.trainable = False"
      ]
    },
    {
      "cell_type": "code",
      "execution_count": 54,
      "metadata": {
        "id": "J2T2Qon655Fx"
      },
      "outputs": [],
      "source": [
        "  # useful for getting number of output classes\n",
        "folders = glob('/content/drive/MyDrive/insect/UPL Assignment/training_images/*')"
      ]
    },
    {
      "cell_type": "code",
      "source": [
        "folders"
      ],
      "metadata": {
        "colab": {
          "base_uri": "https://localhost:8080/"
        },
        "id": "EiiOkkH-99PL",
        "outputId": "ae87dbb2-0ca8-4860-e17f-dec29942a0d6"
      },
      "execution_count": 55,
      "outputs": [
        {
          "output_type": "execute_result",
          "data": {
            "text/plain": [
              "['/content/drive/MyDrive/insect/UPL Assignment/training_images/Stem Borer Larvae',\n",
              " '/content/drive/MyDrive/insect/UPL Assignment/training_images/Leaf Folder Larvae',\n",
              " '/content/drive/MyDrive/insect/UPL Assignment/training_images/Brown Plant Hopper Nimph',\n",
              " '/content/drive/MyDrive/insect/UPL Assignment/training_images/Brown Plant Hopper Adult']"
            ]
          },
          "metadata": {},
          "execution_count": 55
        }
      ]
    },
    {
      "cell_type": "code",
      "execution_count": 56,
      "metadata": {
        "id": "PB2lv6dC55F0"
      },
      "outputs": [],
      "source": [
        "# our layers - you can add more if you want\n",
        "x = Flatten()(inception.output)"
      ]
    },
    {
      "cell_type": "code",
      "execution_count": 57,
      "metadata": {
        "id": "ajX7UJIc55F5"
      },
      "outputs": [],
      "source": [
        "prediction = Dense(len(folders), activation='softmax')(x)\n",
        "\n",
        "# create a model object\n",
        "model = Model(inputs=inception.input, outputs=prediction)"
      ]
    },
    {
      "cell_type": "code",
      "execution_count": 58,
      "metadata": {
        "id": "FzsucZDj55F8",
        "colab": {
          "base_uri": "https://localhost:8080/"
        },
        "outputId": "ac8922e5-4277-45f2-e12d-a0c3c9b3b0d5"
      },
      "outputs": [
        {
          "output_type": "stream",
          "name": "stdout",
          "text": [
            "Model: \"model_2\"\n",
            "__________________________________________________________________________________________________\n",
            " Layer (type)                   Output Shape         Param #     Connected to                     \n",
            "==================================================================================================\n",
            " input_3 (InputLayer)           [(None, 224, 224, 3  0           []                               \n",
            "                                )]                                                                \n",
            "                                                                                                  \n",
            " conv2d_190 (Conv2D)            (None, 111, 111, 32  864         ['input_3[0][0]']                \n",
            "                                )                                                                 \n",
            "                                                                                                  \n",
            " batch_normalization_188 (Batch  (None, 111, 111, 32  96         ['conv2d_190[0][0]']             \n",
            " Normalization)                 )                                                                 \n",
            "                                                                                                  \n",
            " activation_188 (Activation)    (None, 111, 111, 32  0           ['batch_normalization_188[0][0]']\n",
            "                                )                                                                 \n",
            "                                                                                                  \n",
            " conv2d_191 (Conv2D)            (None, 109, 109, 32  9216        ['activation_188[0][0]']         \n",
            "                                )                                                                 \n",
            "                                                                                                  \n",
            " batch_normalization_189 (Batch  (None, 109, 109, 32  96         ['conv2d_191[0][0]']             \n",
            " Normalization)                 )                                                                 \n",
            "                                                                                                  \n",
            " activation_189 (Activation)    (None, 109, 109, 32  0           ['batch_normalization_189[0][0]']\n",
            "                                )                                                                 \n",
            "                                                                                                  \n",
            " conv2d_192 (Conv2D)            (None, 109, 109, 64  18432       ['activation_189[0][0]']         \n",
            "                                )                                                                 \n",
            "                                                                                                  \n",
            " batch_normalization_190 (Batch  (None, 109, 109, 64  192        ['conv2d_192[0][0]']             \n",
            " Normalization)                 )                                                                 \n",
            "                                                                                                  \n",
            " activation_190 (Activation)    (None, 109, 109, 64  0           ['batch_normalization_190[0][0]']\n",
            "                                )                                                                 \n",
            "                                                                                                  \n",
            " max_pooling2d_10 (MaxPooling2D  (None, 54, 54, 64)  0           ['activation_190[0][0]']         \n",
            " )                                                                                                \n",
            "                                                                                                  \n",
            " conv2d_193 (Conv2D)            (None, 54, 54, 80)   5120        ['max_pooling2d_10[0][0]']       \n",
            "                                                                                                  \n",
            " batch_normalization_191 (Batch  (None, 54, 54, 80)  240         ['conv2d_193[0][0]']             \n",
            " Normalization)                                                                                   \n",
            "                                                                                                  \n",
            " activation_191 (Activation)    (None, 54, 54, 80)   0           ['batch_normalization_191[0][0]']\n",
            "                                                                                                  \n",
            " conv2d_194 (Conv2D)            (None, 52, 52, 192)  138240      ['activation_191[0][0]']         \n",
            "                                                                                                  \n",
            " batch_normalization_192 (Batch  (None, 52, 52, 192)  576        ['conv2d_194[0][0]']             \n",
            " Normalization)                                                                                   \n",
            "                                                                                                  \n",
            " activation_192 (Activation)    (None, 52, 52, 192)  0           ['batch_normalization_192[0][0]']\n",
            "                                                                                                  \n",
            " max_pooling2d_11 (MaxPooling2D  (None, 25, 25, 192)  0          ['activation_192[0][0]']         \n",
            " )                                                                                                \n",
            "                                                                                                  \n",
            " conv2d_198 (Conv2D)            (None, 25, 25, 64)   12288       ['max_pooling2d_11[0][0]']       \n",
            "                                                                                                  \n",
            " batch_normalization_196 (Batch  (None, 25, 25, 64)  192         ['conv2d_198[0][0]']             \n",
            " Normalization)                                                                                   \n",
            "                                                                                                  \n",
            " activation_196 (Activation)    (None, 25, 25, 64)   0           ['batch_normalization_196[0][0]']\n",
            "                                                                                                  \n",
            " conv2d_196 (Conv2D)            (None, 25, 25, 48)   9216        ['max_pooling2d_11[0][0]']       \n",
            "                                                                                                  \n",
            " conv2d_199 (Conv2D)            (None, 25, 25, 96)   55296       ['activation_196[0][0]']         \n",
            "                                                                                                  \n",
            " batch_normalization_194 (Batch  (None, 25, 25, 48)  144         ['conv2d_196[0][0]']             \n",
            " Normalization)                                                                                   \n",
            "                                                                                                  \n",
            " batch_normalization_197 (Batch  (None, 25, 25, 96)  288         ['conv2d_199[0][0]']             \n",
            " Normalization)                                                                                   \n",
            "                                                                                                  \n",
            " activation_194 (Activation)    (None, 25, 25, 48)   0           ['batch_normalization_194[0][0]']\n",
            "                                                                                                  \n",
            " activation_197 (Activation)    (None, 25, 25, 96)   0           ['batch_normalization_197[0][0]']\n",
            "                                                                                                  \n",
            " average_pooling2d_18 (AverageP  (None, 25, 25, 192)  0          ['max_pooling2d_11[0][0]']       \n",
            " ooling2D)                                                                                        \n",
            "                                                                                                  \n",
            " conv2d_195 (Conv2D)            (None, 25, 25, 64)   12288       ['max_pooling2d_11[0][0]']       \n",
            "                                                                                                  \n",
            " conv2d_197 (Conv2D)            (None, 25, 25, 64)   76800       ['activation_194[0][0]']         \n",
            "                                                                                                  \n",
            " conv2d_200 (Conv2D)            (None, 25, 25, 96)   82944       ['activation_197[0][0]']         \n",
            "                                                                                                  \n",
            " conv2d_201 (Conv2D)            (None, 25, 25, 32)   6144        ['average_pooling2d_18[0][0]']   \n",
            "                                                                                                  \n",
            " batch_normalization_193 (Batch  (None, 25, 25, 64)  192         ['conv2d_195[0][0]']             \n",
            " Normalization)                                                                                   \n",
            "                                                                                                  \n",
            " batch_normalization_195 (Batch  (None, 25, 25, 64)  192         ['conv2d_197[0][0]']             \n",
            " Normalization)                                                                                   \n",
            "                                                                                                  \n",
            " batch_normalization_198 (Batch  (None, 25, 25, 96)  288         ['conv2d_200[0][0]']             \n",
            " Normalization)                                                                                   \n",
            "                                                                                                  \n",
            " batch_normalization_199 (Batch  (None, 25, 25, 32)  96          ['conv2d_201[0][0]']             \n",
            " Normalization)                                                                                   \n",
            "                                                                                                  \n",
            " activation_193 (Activation)    (None, 25, 25, 64)   0           ['batch_normalization_193[0][0]']\n",
            "                                                                                                  \n",
            " activation_195 (Activation)    (None, 25, 25, 64)   0           ['batch_normalization_195[0][0]']\n",
            "                                                                                                  \n",
            " activation_198 (Activation)    (None, 25, 25, 96)   0           ['batch_normalization_198[0][0]']\n",
            "                                                                                                  \n",
            " activation_199 (Activation)    (None, 25, 25, 32)   0           ['batch_normalization_199[0][0]']\n",
            "                                                                                                  \n",
            " mixed0 (Concatenate)           (None, 25, 25, 256)  0           ['activation_193[0][0]',         \n",
            "                                                                  'activation_195[0][0]',         \n",
            "                                                                  'activation_198[0][0]',         \n",
            "                                                                  'activation_199[0][0]']         \n",
            "                                                                                                  \n",
            " conv2d_205 (Conv2D)            (None, 25, 25, 64)   16384       ['mixed0[0][0]']                 \n",
            "                                                                                                  \n",
            " batch_normalization_203 (Batch  (None, 25, 25, 64)  192         ['conv2d_205[0][0]']             \n",
            " Normalization)                                                                                   \n",
            "                                                                                                  \n",
            " activation_203 (Activation)    (None, 25, 25, 64)   0           ['batch_normalization_203[0][0]']\n",
            "                                                                                                  \n",
            " conv2d_203 (Conv2D)            (None, 25, 25, 48)   12288       ['mixed0[0][0]']                 \n",
            "                                                                                                  \n",
            " conv2d_206 (Conv2D)            (None, 25, 25, 96)   55296       ['activation_203[0][0]']         \n",
            "                                                                                                  \n",
            " batch_normalization_201 (Batch  (None, 25, 25, 48)  144         ['conv2d_203[0][0]']             \n",
            " Normalization)                                                                                   \n",
            "                                                                                                  \n",
            " batch_normalization_204 (Batch  (None, 25, 25, 96)  288         ['conv2d_206[0][0]']             \n",
            " Normalization)                                                                                   \n",
            "                                                                                                  \n",
            " activation_201 (Activation)    (None, 25, 25, 48)   0           ['batch_normalization_201[0][0]']\n",
            "                                                                                                  \n",
            " activation_204 (Activation)    (None, 25, 25, 96)   0           ['batch_normalization_204[0][0]']\n",
            "                                                                                                  \n",
            " average_pooling2d_19 (AverageP  (None, 25, 25, 256)  0          ['mixed0[0][0]']                 \n",
            " ooling2D)                                                                                        \n",
            "                                                                                                  \n",
            " conv2d_202 (Conv2D)            (None, 25, 25, 64)   16384       ['mixed0[0][0]']                 \n",
            "                                                                                                  \n",
            " conv2d_204 (Conv2D)            (None, 25, 25, 64)   76800       ['activation_201[0][0]']         \n",
            "                                                                                                  \n",
            " conv2d_207 (Conv2D)            (None, 25, 25, 96)   82944       ['activation_204[0][0]']         \n",
            "                                                                                                  \n",
            " conv2d_208 (Conv2D)            (None, 25, 25, 64)   16384       ['average_pooling2d_19[0][0]']   \n",
            "                                                                                                  \n",
            " batch_normalization_200 (Batch  (None, 25, 25, 64)  192         ['conv2d_202[0][0]']             \n",
            " Normalization)                                                                                   \n",
            "                                                                                                  \n",
            " batch_normalization_202 (Batch  (None, 25, 25, 64)  192         ['conv2d_204[0][0]']             \n",
            " Normalization)                                                                                   \n",
            "                                                                                                  \n",
            " batch_normalization_205 (Batch  (None, 25, 25, 96)  288         ['conv2d_207[0][0]']             \n",
            " Normalization)                                                                                   \n",
            "                                                                                                  \n",
            " batch_normalization_206 (Batch  (None, 25, 25, 64)  192         ['conv2d_208[0][0]']             \n",
            " Normalization)                                                                                   \n",
            "                                                                                                  \n",
            " activation_200 (Activation)    (None, 25, 25, 64)   0           ['batch_normalization_200[0][0]']\n",
            "                                                                                                  \n",
            " activation_202 (Activation)    (None, 25, 25, 64)   0           ['batch_normalization_202[0][0]']\n",
            "                                                                                                  \n",
            " activation_205 (Activation)    (None, 25, 25, 96)   0           ['batch_normalization_205[0][0]']\n",
            "                                                                                                  \n",
            " activation_206 (Activation)    (None, 25, 25, 64)   0           ['batch_normalization_206[0][0]']\n",
            "                                                                                                  \n",
            " mixed1 (Concatenate)           (None, 25, 25, 288)  0           ['activation_200[0][0]',         \n",
            "                                                                  'activation_202[0][0]',         \n",
            "                                                                  'activation_205[0][0]',         \n",
            "                                                                  'activation_206[0][0]']         \n",
            "                                                                                                  \n",
            " conv2d_212 (Conv2D)            (None, 25, 25, 64)   18432       ['mixed1[0][0]']                 \n",
            "                                                                                                  \n",
            " batch_normalization_210 (Batch  (None, 25, 25, 64)  192         ['conv2d_212[0][0]']             \n",
            " Normalization)                                                                                   \n",
            "                                                                                                  \n",
            " activation_210 (Activation)    (None, 25, 25, 64)   0           ['batch_normalization_210[0][0]']\n",
            "                                                                                                  \n",
            " conv2d_210 (Conv2D)            (None, 25, 25, 48)   13824       ['mixed1[0][0]']                 \n",
            "                                                                                                  \n",
            " conv2d_213 (Conv2D)            (None, 25, 25, 96)   55296       ['activation_210[0][0]']         \n",
            "                                                                                                  \n",
            " batch_normalization_208 (Batch  (None, 25, 25, 48)  144         ['conv2d_210[0][0]']             \n",
            " Normalization)                                                                                   \n",
            "                                                                                                  \n",
            " batch_normalization_211 (Batch  (None, 25, 25, 96)  288         ['conv2d_213[0][0]']             \n",
            " Normalization)                                                                                   \n",
            "                                                                                                  \n",
            " activation_208 (Activation)    (None, 25, 25, 48)   0           ['batch_normalization_208[0][0]']\n",
            "                                                                                                  \n",
            " activation_211 (Activation)    (None, 25, 25, 96)   0           ['batch_normalization_211[0][0]']\n",
            "                                                                                                  \n",
            " average_pooling2d_20 (AverageP  (None, 25, 25, 288)  0          ['mixed1[0][0]']                 \n",
            " ooling2D)                                                                                        \n",
            "                                                                                                  \n",
            " conv2d_209 (Conv2D)            (None, 25, 25, 64)   18432       ['mixed1[0][0]']                 \n",
            "                                                                                                  \n",
            " conv2d_211 (Conv2D)            (None, 25, 25, 64)   76800       ['activation_208[0][0]']         \n",
            "                                                                                                  \n",
            " conv2d_214 (Conv2D)            (None, 25, 25, 96)   82944       ['activation_211[0][0]']         \n",
            "                                                                                                  \n",
            " conv2d_215 (Conv2D)            (None, 25, 25, 64)   18432       ['average_pooling2d_20[0][0]']   \n",
            "                                                                                                  \n",
            " batch_normalization_207 (Batch  (None, 25, 25, 64)  192         ['conv2d_209[0][0]']             \n",
            " Normalization)                                                                                   \n",
            "                                                                                                  \n",
            " batch_normalization_209 (Batch  (None, 25, 25, 64)  192         ['conv2d_211[0][0]']             \n",
            " Normalization)                                                                                   \n",
            "                                                                                                  \n",
            " batch_normalization_212 (Batch  (None, 25, 25, 96)  288         ['conv2d_214[0][0]']             \n",
            " Normalization)                                                                                   \n",
            "                                                                                                  \n",
            " batch_normalization_213 (Batch  (None, 25, 25, 64)  192         ['conv2d_215[0][0]']             \n",
            " Normalization)                                                                                   \n",
            "                                                                                                  \n",
            " activation_207 (Activation)    (None, 25, 25, 64)   0           ['batch_normalization_207[0][0]']\n",
            "                                                                                                  \n",
            " activation_209 (Activation)    (None, 25, 25, 64)   0           ['batch_normalization_209[0][0]']\n",
            "                                                                                                  \n",
            " activation_212 (Activation)    (None, 25, 25, 96)   0           ['batch_normalization_212[0][0]']\n",
            "                                                                                                  \n",
            " activation_213 (Activation)    (None, 25, 25, 64)   0           ['batch_normalization_213[0][0]']\n",
            "                                                                                                  \n",
            " mixed2 (Concatenate)           (None, 25, 25, 288)  0           ['activation_207[0][0]',         \n",
            "                                                                  'activation_209[0][0]',         \n",
            "                                                                  'activation_212[0][0]',         \n",
            "                                                                  'activation_213[0][0]']         \n",
            "                                                                                                  \n",
            " conv2d_217 (Conv2D)            (None, 25, 25, 64)   18432       ['mixed2[0][0]']                 \n",
            "                                                                                                  \n",
            " batch_normalization_215 (Batch  (None, 25, 25, 64)  192         ['conv2d_217[0][0]']             \n",
            " Normalization)                                                                                   \n",
            "                                                                                                  \n",
            " activation_215 (Activation)    (None, 25, 25, 64)   0           ['batch_normalization_215[0][0]']\n",
            "                                                                                                  \n",
            " conv2d_218 (Conv2D)            (None, 25, 25, 96)   55296       ['activation_215[0][0]']         \n",
            "                                                                                                  \n",
            " batch_normalization_216 (Batch  (None, 25, 25, 96)  288         ['conv2d_218[0][0]']             \n",
            " Normalization)                                                                                   \n",
            "                                                                                                  \n",
            " activation_216 (Activation)    (None, 25, 25, 96)   0           ['batch_normalization_216[0][0]']\n",
            "                                                                                                  \n",
            " conv2d_216 (Conv2D)            (None, 12, 12, 384)  995328      ['mixed2[0][0]']                 \n",
            "                                                                                                  \n",
            " conv2d_219 (Conv2D)            (None, 12, 12, 96)   82944       ['activation_216[0][0]']         \n",
            "                                                                                                  \n",
            " batch_normalization_214 (Batch  (None, 12, 12, 384)  1152       ['conv2d_216[0][0]']             \n",
            " Normalization)                                                                                   \n",
            "                                                                                                  \n",
            " batch_normalization_217 (Batch  (None, 12, 12, 96)  288         ['conv2d_219[0][0]']             \n",
            " Normalization)                                                                                   \n",
            "                                                                                                  \n",
            " activation_214 (Activation)    (None, 12, 12, 384)  0           ['batch_normalization_214[0][0]']\n",
            "                                                                                                  \n",
            " activation_217 (Activation)    (None, 12, 12, 96)   0           ['batch_normalization_217[0][0]']\n",
            "                                                                                                  \n",
            " max_pooling2d_12 (MaxPooling2D  (None, 12, 12, 288)  0          ['mixed2[0][0]']                 \n",
            " )                                                                                                \n",
            "                                                                                                  \n",
            " mixed3 (Concatenate)           (None, 12, 12, 768)  0           ['activation_214[0][0]',         \n",
            "                                                                  'activation_217[0][0]',         \n",
            "                                                                  'max_pooling2d_12[0][0]']       \n",
            "                                                                                                  \n",
            " conv2d_224 (Conv2D)            (None, 12, 12, 128)  98304       ['mixed3[0][0]']                 \n",
            "                                                                                                  \n",
            " batch_normalization_222 (Batch  (None, 12, 12, 128)  384        ['conv2d_224[0][0]']             \n",
            " Normalization)                                                                                   \n",
            "                                                                                                  \n",
            " activation_222 (Activation)    (None, 12, 12, 128)  0           ['batch_normalization_222[0][0]']\n",
            "                                                                                                  \n",
            " conv2d_225 (Conv2D)            (None, 12, 12, 128)  114688      ['activation_222[0][0]']         \n",
            "                                                                                                  \n",
            " batch_normalization_223 (Batch  (None, 12, 12, 128)  384        ['conv2d_225[0][0]']             \n",
            " Normalization)                                                                                   \n",
            "                                                                                                  \n",
            " activation_223 (Activation)    (None, 12, 12, 128)  0           ['batch_normalization_223[0][0]']\n",
            "                                                                                                  \n",
            " conv2d_221 (Conv2D)            (None, 12, 12, 128)  98304       ['mixed3[0][0]']                 \n",
            "                                                                                                  \n",
            " conv2d_226 (Conv2D)            (None, 12, 12, 128)  114688      ['activation_223[0][0]']         \n",
            "                                                                                                  \n",
            " batch_normalization_219 (Batch  (None, 12, 12, 128)  384        ['conv2d_221[0][0]']             \n",
            " Normalization)                                                                                   \n",
            "                                                                                                  \n",
            " batch_normalization_224 (Batch  (None, 12, 12, 128)  384        ['conv2d_226[0][0]']             \n",
            " Normalization)                                                                                   \n",
            "                                                                                                  \n",
            " activation_219 (Activation)    (None, 12, 12, 128)  0           ['batch_normalization_219[0][0]']\n",
            "                                                                                                  \n",
            " activation_224 (Activation)    (None, 12, 12, 128)  0           ['batch_normalization_224[0][0]']\n",
            "                                                                                                  \n",
            " conv2d_222 (Conv2D)            (None, 12, 12, 128)  114688      ['activation_219[0][0]']         \n",
            "                                                                                                  \n",
            " conv2d_227 (Conv2D)            (None, 12, 12, 128)  114688      ['activation_224[0][0]']         \n",
            "                                                                                                  \n",
            " batch_normalization_220 (Batch  (None, 12, 12, 128)  384        ['conv2d_222[0][0]']             \n",
            " Normalization)                                                                                   \n",
            "                                                                                                  \n",
            " batch_normalization_225 (Batch  (None, 12, 12, 128)  384        ['conv2d_227[0][0]']             \n",
            " Normalization)                                                                                   \n",
            "                                                                                                  \n",
            " activation_220 (Activation)    (None, 12, 12, 128)  0           ['batch_normalization_220[0][0]']\n",
            "                                                                                                  \n",
            " activation_225 (Activation)    (None, 12, 12, 128)  0           ['batch_normalization_225[0][0]']\n",
            "                                                                                                  \n",
            " average_pooling2d_21 (AverageP  (None, 12, 12, 768)  0          ['mixed3[0][0]']                 \n",
            " ooling2D)                                                                                        \n",
            "                                                                                                  \n",
            " conv2d_220 (Conv2D)            (None, 12, 12, 192)  147456      ['mixed3[0][0]']                 \n",
            "                                                                                                  \n",
            " conv2d_223 (Conv2D)            (None, 12, 12, 192)  172032      ['activation_220[0][0]']         \n",
            "                                                                                                  \n",
            " conv2d_228 (Conv2D)            (None, 12, 12, 192)  172032      ['activation_225[0][0]']         \n",
            "                                                                                                  \n",
            " conv2d_229 (Conv2D)            (None, 12, 12, 192)  147456      ['average_pooling2d_21[0][0]']   \n",
            "                                                                                                  \n",
            " batch_normalization_218 (Batch  (None, 12, 12, 192)  576        ['conv2d_220[0][0]']             \n",
            " Normalization)                                                                                   \n",
            "                                                                                                  \n",
            " batch_normalization_221 (Batch  (None, 12, 12, 192)  576        ['conv2d_223[0][0]']             \n",
            " Normalization)                                                                                   \n",
            "                                                                                                  \n",
            " batch_normalization_226 (Batch  (None, 12, 12, 192)  576        ['conv2d_228[0][0]']             \n",
            " Normalization)                                                                                   \n",
            "                                                                                                  \n",
            " batch_normalization_227 (Batch  (None, 12, 12, 192)  576        ['conv2d_229[0][0]']             \n",
            " Normalization)                                                                                   \n",
            "                                                                                                  \n",
            " activation_218 (Activation)    (None, 12, 12, 192)  0           ['batch_normalization_218[0][0]']\n",
            "                                                                                                  \n",
            " activation_221 (Activation)    (None, 12, 12, 192)  0           ['batch_normalization_221[0][0]']\n",
            "                                                                                                  \n",
            " activation_226 (Activation)    (None, 12, 12, 192)  0           ['batch_normalization_226[0][0]']\n",
            "                                                                                                  \n",
            " activation_227 (Activation)    (None, 12, 12, 192)  0           ['batch_normalization_227[0][0]']\n",
            "                                                                                                  \n",
            " mixed4 (Concatenate)           (None, 12, 12, 768)  0           ['activation_218[0][0]',         \n",
            "                                                                  'activation_221[0][0]',         \n",
            "                                                                  'activation_226[0][0]',         \n",
            "                                                                  'activation_227[0][0]']         \n",
            "                                                                                                  \n",
            " conv2d_234 (Conv2D)            (None, 12, 12, 160)  122880      ['mixed4[0][0]']                 \n",
            "                                                                                                  \n",
            " batch_normalization_232 (Batch  (None, 12, 12, 160)  480        ['conv2d_234[0][0]']             \n",
            " Normalization)                                                                                   \n",
            "                                                                                                  \n",
            " activation_232 (Activation)    (None, 12, 12, 160)  0           ['batch_normalization_232[0][0]']\n",
            "                                                                                                  \n",
            " conv2d_235 (Conv2D)            (None, 12, 12, 160)  179200      ['activation_232[0][0]']         \n",
            "                                                                                                  \n",
            " batch_normalization_233 (Batch  (None, 12, 12, 160)  480        ['conv2d_235[0][0]']             \n",
            " Normalization)                                                                                   \n",
            "                                                                                                  \n",
            " activation_233 (Activation)    (None, 12, 12, 160)  0           ['batch_normalization_233[0][0]']\n",
            "                                                                                                  \n",
            " conv2d_231 (Conv2D)            (None, 12, 12, 160)  122880      ['mixed4[0][0]']                 \n",
            "                                                                                                  \n",
            " conv2d_236 (Conv2D)            (None, 12, 12, 160)  179200      ['activation_233[0][0]']         \n",
            "                                                                                                  \n",
            " batch_normalization_229 (Batch  (None, 12, 12, 160)  480        ['conv2d_231[0][0]']             \n",
            " Normalization)                                                                                   \n",
            "                                                                                                  \n",
            " batch_normalization_234 (Batch  (None, 12, 12, 160)  480        ['conv2d_236[0][0]']             \n",
            " Normalization)                                                                                   \n",
            "                                                                                                  \n",
            " activation_229 (Activation)    (None, 12, 12, 160)  0           ['batch_normalization_229[0][0]']\n",
            "                                                                                                  \n",
            " activation_234 (Activation)    (None, 12, 12, 160)  0           ['batch_normalization_234[0][0]']\n",
            "                                                                                                  \n",
            " conv2d_232 (Conv2D)            (None, 12, 12, 160)  179200      ['activation_229[0][0]']         \n",
            "                                                                                                  \n",
            " conv2d_237 (Conv2D)            (None, 12, 12, 160)  179200      ['activation_234[0][0]']         \n",
            "                                                                                                  \n",
            " batch_normalization_230 (Batch  (None, 12, 12, 160)  480        ['conv2d_232[0][0]']             \n",
            " Normalization)                                                                                   \n",
            "                                                                                                  \n",
            " batch_normalization_235 (Batch  (None, 12, 12, 160)  480        ['conv2d_237[0][0]']             \n",
            " Normalization)                                                                                   \n",
            "                                                                                                  \n",
            " activation_230 (Activation)    (None, 12, 12, 160)  0           ['batch_normalization_230[0][0]']\n",
            "                                                                                                  \n",
            " activation_235 (Activation)    (None, 12, 12, 160)  0           ['batch_normalization_235[0][0]']\n",
            "                                                                                                  \n",
            " average_pooling2d_22 (AverageP  (None, 12, 12, 768)  0          ['mixed4[0][0]']                 \n",
            " ooling2D)                                                                                        \n",
            "                                                                                                  \n",
            " conv2d_230 (Conv2D)            (None, 12, 12, 192)  147456      ['mixed4[0][0]']                 \n",
            "                                                                                                  \n",
            " conv2d_233 (Conv2D)            (None, 12, 12, 192)  215040      ['activation_230[0][0]']         \n",
            "                                                                                                  \n",
            " conv2d_238 (Conv2D)            (None, 12, 12, 192)  215040      ['activation_235[0][0]']         \n",
            "                                                                                                  \n",
            " conv2d_239 (Conv2D)            (None, 12, 12, 192)  147456      ['average_pooling2d_22[0][0]']   \n",
            "                                                                                                  \n",
            " batch_normalization_228 (Batch  (None, 12, 12, 192)  576        ['conv2d_230[0][0]']             \n",
            " Normalization)                                                                                   \n",
            "                                                                                                  \n",
            " batch_normalization_231 (Batch  (None, 12, 12, 192)  576        ['conv2d_233[0][0]']             \n",
            " Normalization)                                                                                   \n",
            "                                                                                                  \n",
            " batch_normalization_236 (Batch  (None, 12, 12, 192)  576        ['conv2d_238[0][0]']             \n",
            " Normalization)                                                                                   \n",
            "                                                                                                  \n",
            " batch_normalization_237 (Batch  (None, 12, 12, 192)  576        ['conv2d_239[0][0]']             \n",
            " Normalization)                                                                                   \n",
            "                                                                                                  \n",
            " activation_228 (Activation)    (None, 12, 12, 192)  0           ['batch_normalization_228[0][0]']\n",
            "                                                                                                  \n",
            " activation_231 (Activation)    (None, 12, 12, 192)  0           ['batch_normalization_231[0][0]']\n",
            "                                                                                                  \n",
            " activation_236 (Activation)    (None, 12, 12, 192)  0           ['batch_normalization_236[0][0]']\n",
            "                                                                                                  \n",
            " activation_237 (Activation)    (None, 12, 12, 192)  0           ['batch_normalization_237[0][0]']\n",
            "                                                                                                  \n",
            " mixed5 (Concatenate)           (None, 12, 12, 768)  0           ['activation_228[0][0]',         \n",
            "                                                                  'activation_231[0][0]',         \n",
            "                                                                  'activation_236[0][0]',         \n",
            "                                                                  'activation_237[0][0]']         \n",
            "                                                                                                  \n",
            " conv2d_244 (Conv2D)            (None, 12, 12, 160)  122880      ['mixed5[0][0]']                 \n",
            "                                                                                                  \n",
            " batch_normalization_242 (Batch  (None, 12, 12, 160)  480        ['conv2d_244[0][0]']             \n",
            " Normalization)                                                                                   \n",
            "                                                                                                  \n",
            " activation_242 (Activation)    (None, 12, 12, 160)  0           ['batch_normalization_242[0][0]']\n",
            "                                                                                                  \n",
            " conv2d_245 (Conv2D)            (None, 12, 12, 160)  179200      ['activation_242[0][0]']         \n",
            "                                                                                                  \n",
            " batch_normalization_243 (Batch  (None, 12, 12, 160)  480        ['conv2d_245[0][0]']             \n",
            " Normalization)                                                                                   \n",
            "                                                                                                  \n",
            " activation_243 (Activation)    (None, 12, 12, 160)  0           ['batch_normalization_243[0][0]']\n",
            "                                                                                                  \n",
            " conv2d_241 (Conv2D)            (None, 12, 12, 160)  122880      ['mixed5[0][0]']                 \n",
            "                                                                                                  \n",
            " conv2d_246 (Conv2D)            (None, 12, 12, 160)  179200      ['activation_243[0][0]']         \n",
            "                                                                                                  \n",
            " batch_normalization_239 (Batch  (None, 12, 12, 160)  480        ['conv2d_241[0][0]']             \n",
            " Normalization)                                                                                   \n",
            "                                                                                                  \n",
            " batch_normalization_244 (Batch  (None, 12, 12, 160)  480        ['conv2d_246[0][0]']             \n",
            " Normalization)                                                                                   \n",
            "                                                                                                  \n",
            " activation_239 (Activation)    (None, 12, 12, 160)  0           ['batch_normalization_239[0][0]']\n",
            "                                                                                                  \n",
            " activation_244 (Activation)    (None, 12, 12, 160)  0           ['batch_normalization_244[0][0]']\n",
            "                                                                                                  \n",
            " conv2d_242 (Conv2D)            (None, 12, 12, 160)  179200      ['activation_239[0][0]']         \n",
            "                                                                                                  \n",
            " conv2d_247 (Conv2D)            (None, 12, 12, 160)  179200      ['activation_244[0][0]']         \n",
            "                                                                                                  \n",
            " batch_normalization_240 (Batch  (None, 12, 12, 160)  480        ['conv2d_242[0][0]']             \n",
            " Normalization)                                                                                   \n",
            "                                                                                                  \n",
            " batch_normalization_245 (Batch  (None, 12, 12, 160)  480        ['conv2d_247[0][0]']             \n",
            " Normalization)                                                                                   \n",
            "                                                                                                  \n",
            " activation_240 (Activation)    (None, 12, 12, 160)  0           ['batch_normalization_240[0][0]']\n",
            "                                                                                                  \n",
            " activation_245 (Activation)    (None, 12, 12, 160)  0           ['batch_normalization_245[0][0]']\n",
            "                                                                                                  \n",
            " average_pooling2d_23 (AverageP  (None, 12, 12, 768)  0          ['mixed5[0][0]']                 \n",
            " ooling2D)                                                                                        \n",
            "                                                                                                  \n",
            " conv2d_240 (Conv2D)            (None, 12, 12, 192)  147456      ['mixed5[0][0]']                 \n",
            "                                                                                                  \n",
            " conv2d_243 (Conv2D)            (None, 12, 12, 192)  215040      ['activation_240[0][0]']         \n",
            "                                                                                                  \n",
            " conv2d_248 (Conv2D)            (None, 12, 12, 192)  215040      ['activation_245[0][0]']         \n",
            "                                                                                                  \n",
            " conv2d_249 (Conv2D)            (None, 12, 12, 192)  147456      ['average_pooling2d_23[0][0]']   \n",
            "                                                                                                  \n",
            " batch_normalization_238 (Batch  (None, 12, 12, 192)  576        ['conv2d_240[0][0]']             \n",
            " Normalization)                                                                                   \n",
            "                                                                                                  \n",
            " batch_normalization_241 (Batch  (None, 12, 12, 192)  576        ['conv2d_243[0][0]']             \n",
            " Normalization)                                                                                   \n",
            "                                                                                                  \n",
            " batch_normalization_246 (Batch  (None, 12, 12, 192)  576        ['conv2d_248[0][0]']             \n",
            " Normalization)                                                                                   \n",
            "                                                                                                  \n",
            " batch_normalization_247 (Batch  (None, 12, 12, 192)  576        ['conv2d_249[0][0]']             \n",
            " Normalization)                                                                                   \n",
            "                                                                                                  \n",
            " activation_238 (Activation)    (None, 12, 12, 192)  0           ['batch_normalization_238[0][0]']\n",
            "                                                                                                  \n",
            " activation_241 (Activation)    (None, 12, 12, 192)  0           ['batch_normalization_241[0][0]']\n",
            "                                                                                                  \n",
            " activation_246 (Activation)    (None, 12, 12, 192)  0           ['batch_normalization_246[0][0]']\n",
            "                                                                                                  \n",
            " activation_247 (Activation)    (None, 12, 12, 192)  0           ['batch_normalization_247[0][0]']\n",
            "                                                                                                  \n",
            " mixed6 (Concatenate)           (None, 12, 12, 768)  0           ['activation_238[0][0]',         \n",
            "                                                                  'activation_241[0][0]',         \n",
            "                                                                  'activation_246[0][0]',         \n",
            "                                                                  'activation_247[0][0]']         \n",
            "                                                                                                  \n",
            " conv2d_254 (Conv2D)            (None, 12, 12, 192)  147456      ['mixed6[0][0]']                 \n",
            "                                                                                                  \n",
            " batch_normalization_252 (Batch  (None, 12, 12, 192)  576        ['conv2d_254[0][0]']             \n",
            " Normalization)                                                                                   \n",
            "                                                                                                  \n",
            " activation_252 (Activation)    (None, 12, 12, 192)  0           ['batch_normalization_252[0][0]']\n",
            "                                                                                                  \n",
            " conv2d_255 (Conv2D)            (None, 12, 12, 192)  258048      ['activation_252[0][0]']         \n",
            "                                                                                                  \n",
            " batch_normalization_253 (Batch  (None, 12, 12, 192)  576        ['conv2d_255[0][0]']             \n",
            " Normalization)                                                                                   \n",
            "                                                                                                  \n",
            " activation_253 (Activation)    (None, 12, 12, 192)  0           ['batch_normalization_253[0][0]']\n",
            "                                                                                                  \n",
            " conv2d_251 (Conv2D)            (None, 12, 12, 192)  147456      ['mixed6[0][0]']                 \n",
            "                                                                                                  \n",
            " conv2d_256 (Conv2D)            (None, 12, 12, 192)  258048      ['activation_253[0][0]']         \n",
            "                                                                                                  \n",
            " batch_normalization_249 (Batch  (None, 12, 12, 192)  576        ['conv2d_251[0][0]']             \n",
            " Normalization)                                                                                   \n",
            "                                                                                                  \n",
            " batch_normalization_254 (Batch  (None, 12, 12, 192)  576        ['conv2d_256[0][0]']             \n",
            " Normalization)                                                                                   \n",
            "                                                                                                  \n",
            " activation_249 (Activation)    (None, 12, 12, 192)  0           ['batch_normalization_249[0][0]']\n",
            "                                                                                                  \n",
            " activation_254 (Activation)    (None, 12, 12, 192)  0           ['batch_normalization_254[0][0]']\n",
            "                                                                                                  \n",
            " conv2d_252 (Conv2D)            (None, 12, 12, 192)  258048      ['activation_249[0][0]']         \n",
            "                                                                                                  \n",
            " conv2d_257 (Conv2D)            (None, 12, 12, 192)  258048      ['activation_254[0][0]']         \n",
            "                                                                                                  \n",
            " batch_normalization_250 (Batch  (None, 12, 12, 192)  576        ['conv2d_252[0][0]']             \n",
            " Normalization)                                                                                   \n",
            "                                                                                                  \n",
            " batch_normalization_255 (Batch  (None, 12, 12, 192)  576        ['conv2d_257[0][0]']             \n",
            " Normalization)                                                                                   \n",
            "                                                                                                  \n",
            " activation_250 (Activation)    (None, 12, 12, 192)  0           ['batch_normalization_250[0][0]']\n",
            "                                                                                                  \n",
            " activation_255 (Activation)    (None, 12, 12, 192)  0           ['batch_normalization_255[0][0]']\n",
            "                                                                                                  \n",
            " average_pooling2d_24 (AverageP  (None, 12, 12, 768)  0          ['mixed6[0][0]']                 \n",
            " ooling2D)                                                                                        \n",
            "                                                                                                  \n",
            " conv2d_250 (Conv2D)            (None, 12, 12, 192)  147456      ['mixed6[0][0]']                 \n",
            "                                                                                                  \n",
            " conv2d_253 (Conv2D)            (None, 12, 12, 192)  258048      ['activation_250[0][0]']         \n",
            "                                                                                                  \n",
            " conv2d_258 (Conv2D)            (None, 12, 12, 192)  258048      ['activation_255[0][0]']         \n",
            "                                                                                                  \n",
            " conv2d_259 (Conv2D)            (None, 12, 12, 192)  147456      ['average_pooling2d_24[0][0]']   \n",
            "                                                                                                  \n",
            " batch_normalization_248 (Batch  (None, 12, 12, 192)  576        ['conv2d_250[0][0]']             \n",
            " Normalization)                                                                                   \n",
            "                                                                                                  \n",
            " batch_normalization_251 (Batch  (None, 12, 12, 192)  576        ['conv2d_253[0][0]']             \n",
            " Normalization)                                                                                   \n",
            "                                                                                                  \n",
            " batch_normalization_256 (Batch  (None, 12, 12, 192)  576        ['conv2d_258[0][0]']             \n",
            " Normalization)                                                                                   \n",
            "                                                                                                  \n",
            " batch_normalization_257 (Batch  (None, 12, 12, 192)  576        ['conv2d_259[0][0]']             \n",
            " Normalization)                                                                                   \n",
            "                                                                                                  \n",
            " activation_248 (Activation)    (None, 12, 12, 192)  0           ['batch_normalization_248[0][0]']\n",
            "                                                                                                  \n",
            " activation_251 (Activation)    (None, 12, 12, 192)  0           ['batch_normalization_251[0][0]']\n",
            "                                                                                                  \n",
            " activation_256 (Activation)    (None, 12, 12, 192)  0           ['batch_normalization_256[0][0]']\n",
            "                                                                                                  \n",
            " activation_257 (Activation)    (None, 12, 12, 192)  0           ['batch_normalization_257[0][0]']\n",
            "                                                                                                  \n",
            " mixed7 (Concatenate)           (None, 12, 12, 768)  0           ['activation_248[0][0]',         \n",
            "                                                                  'activation_251[0][0]',         \n",
            "                                                                  'activation_256[0][0]',         \n",
            "                                                                  'activation_257[0][0]']         \n",
            "                                                                                                  \n",
            " conv2d_262 (Conv2D)            (None, 12, 12, 192)  147456      ['mixed7[0][0]']                 \n",
            "                                                                                                  \n",
            " batch_normalization_260 (Batch  (None, 12, 12, 192)  576        ['conv2d_262[0][0]']             \n",
            " Normalization)                                                                                   \n",
            "                                                                                                  \n",
            " activation_260 (Activation)    (None, 12, 12, 192)  0           ['batch_normalization_260[0][0]']\n",
            "                                                                                                  \n",
            " conv2d_263 (Conv2D)            (None, 12, 12, 192)  258048      ['activation_260[0][0]']         \n",
            "                                                                                                  \n",
            " batch_normalization_261 (Batch  (None, 12, 12, 192)  576        ['conv2d_263[0][0]']             \n",
            " Normalization)                                                                                   \n",
            "                                                                                                  \n",
            " activation_261 (Activation)    (None, 12, 12, 192)  0           ['batch_normalization_261[0][0]']\n",
            "                                                                                                  \n",
            " conv2d_260 (Conv2D)            (None, 12, 12, 192)  147456      ['mixed7[0][0]']                 \n",
            "                                                                                                  \n",
            " conv2d_264 (Conv2D)            (None, 12, 12, 192)  258048      ['activation_261[0][0]']         \n",
            "                                                                                                  \n",
            " batch_normalization_258 (Batch  (None, 12, 12, 192)  576        ['conv2d_260[0][0]']             \n",
            " Normalization)                                                                                   \n",
            "                                                                                                  \n",
            " batch_normalization_262 (Batch  (None, 12, 12, 192)  576        ['conv2d_264[0][0]']             \n",
            " Normalization)                                                                                   \n",
            "                                                                                                  \n",
            " activation_258 (Activation)    (None, 12, 12, 192)  0           ['batch_normalization_258[0][0]']\n",
            "                                                                                                  \n",
            " activation_262 (Activation)    (None, 12, 12, 192)  0           ['batch_normalization_262[0][0]']\n",
            "                                                                                                  \n",
            " conv2d_261 (Conv2D)            (None, 5, 5, 320)    552960      ['activation_258[0][0]']         \n",
            "                                                                                                  \n",
            " conv2d_265 (Conv2D)            (None, 5, 5, 192)    331776      ['activation_262[0][0]']         \n",
            "                                                                                                  \n",
            " batch_normalization_259 (Batch  (None, 5, 5, 320)   960         ['conv2d_261[0][0]']             \n",
            " Normalization)                                                                                   \n",
            "                                                                                                  \n",
            " batch_normalization_263 (Batch  (None, 5, 5, 192)   576         ['conv2d_265[0][0]']             \n",
            " Normalization)                                                                                   \n",
            "                                                                                                  \n",
            " activation_259 (Activation)    (None, 5, 5, 320)    0           ['batch_normalization_259[0][0]']\n",
            "                                                                                                  \n",
            " activation_263 (Activation)    (None, 5, 5, 192)    0           ['batch_normalization_263[0][0]']\n",
            "                                                                                                  \n",
            " max_pooling2d_13 (MaxPooling2D  (None, 5, 5, 768)   0           ['mixed7[0][0]']                 \n",
            " )                                                                                                \n",
            "                                                                                                  \n",
            " mixed8 (Concatenate)           (None, 5, 5, 1280)   0           ['activation_259[0][0]',         \n",
            "                                                                  'activation_263[0][0]',         \n",
            "                                                                  'max_pooling2d_13[0][0]']       \n",
            "                                                                                                  \n",
            " conv2d_270 (Conv2D)            (None, 5, 5, 448)    573440      ['mixed8[0][0]']                 \n",
            "                                                                                                  \n",
            " batch_normalization_268 (Batch  (None, 5, 5, 448)   1344        ['conv2d_270[0][0]']             \n",
            " Normalization)                                                                                   \n",
            "                                                                                                  \n",
            " activation_268 (Activation)    (None, 5, 5, 448)    0           ['batch_normalization_268[0][0]']\n",
            "                                                                                                  \n",
            " conv2d_267 (Conv2D)            (None, 5, 5, 384)    491520      ['mixed8[0][0]']                 \n",
            "                                                                                                  \n",
            " conv2d_271 (Conv2D)            (None, 5, 5, 384)    1548288     ['activation_268[0][0]']         \n",
            "                                                                                                  \n",
            " batch_normalization_265 (Batch  (None, 5, 5, 384)   1152        ['conv2d_267[0][0]']             \n",
            " Normalization)                                                                                   \n",
            "                                                                                                  \n",
            " batch_normalization_269 (Batch  (None, 5, 5, 384)   1152        ['conv2d_271[0][0]']             \n",
            " Normalization)                                                                                   \n",
            "                                                                                                  \n",
            " activation_265 (Activation)    (None, 5, 5, 384)    0           ['batch_normalization_265[0][0]']\n",
            "                                                                                                  \n",
            " activation_269 (Activation)    (None, 5, 5, 384)    0           ['batch_normalization_269[0][0]']\n",
            "                                                                                                  \n",
            " conv2d_268 (Conv2D)            (None, 5, 5, 384)    442368      ['activation_265[0][0]']         \n",
            "                                                                                                  \n",
            " conv2d_269 (Conv2D)            (None, 5, 5, 384)    442368      ['activation_265[0][0]']         \n",
            "                                                                                                  \n",
            " conv2d_272 (Conv2D)            (None, 5, 5, 384)    442368      ['activation_269[0][0]']         \n",
            "                                                                                                  \n",
            " conv2d_273 (Conv2D)            (None, 5, 5, 384)    442368      ['activation_269[0][0]']         \n",
            "                                                                                                  \n",
            " average_pooling2d_25 (AverageP  (None, 5, 5, 1280)  0           ['mixed8[0][0]']                 \n",
            " ooling2D)                                                                                        \n",
            "                                                                                                  \n",
            " conv2d_266 (Conv2D)            (None, 5, 5, 320)    409600      ['mixed8[0][0]']                 \n",
            "                                                                                                  \n",
            " batch_normalization_266 (Batch  (None, 5, 5, 384)   1152        ['conv2d_268[0][0]']             \n",
            " Normalization)                                                                                   \n",
            "                                                                                                  \n",
            " batch_normalization_267 (Batch  (None, 5, 5, 384)   1152        ['conv2d_269[0][0]']             \n",
            " Normalization)                                                                                   \n",
            "                                                                                                  \n",
            " batch_normalization_270 (Batch  (None, 5, 5, 384)   1152        ['conv2d_272[0][0]']             \n",
            " Normalization)                                                                                   \n",
            "                                                                                                  \n",
            " batch_normalization_271 (Batch  (None, 5, 5, 384)   1152        ['conv2d_273[0][0]']             \n",
            " Normalization)                                                                                   \n",
            "                                                                                                  \n",
            " conv2d_274 (Conv2D)            (None, 5, 5, 192)    245760      ['average_pooling2d_25[0][0]']   \n",
            "                                                                                                  \n",
            " batch_normalization_264 (Batch  (None, 5, 5, 320)   960         ['conv2d_266[0][0]']             \n",
            " Normalization)                                                                                   \n",
            "                                                                                                  \n",
            " activation_266 (Activation)    (None, 5, 5, 384)    0           ['batch_normalization_266[0][0]']\n",
            "                                                                                                  \n",
            " activation_267 (Activation)    (None, 5, 5, 384)    0           ['batch_normalization_267[0][0]']\n",
            "                                                                                                  \n",
            " activation_270 (Activation)    (None, 5, 5, 384)    0           ['batch_normalization_270[0][0]']\n",
            "                                                                                                  \n",
            " activation_271 (Activation)    (None, 5, 5, 384)    0           ['batch_normalization_271[0][0]']\n",
            "                                                                                                  \n",
            " batch_normalization_272 (Batch  (None, 5, 5, 192)   576         ['conv2d_274[0][0]']             \n",
            " Normalization)                                                                                   \n",
            "                                                                                                  \n",
            " activation_264 (Activation)    (None, 5, 5, 320)    0           ['batch_normalization_264[0][0]']\n",
            "                                                                                                  \n",
            " mixed9_0 (Concatenate)         (None, 5, 5, 768)    0           ['activation_266[0][0]',         \n",
            "                                                                  'activation_267[0][0]']         \n",
            "                                                                                                  \n",
            " concatenate_4 (Concatenate)    (None, 5, 5, 768)    0           ['activation_270[0][0]',         \n",
            "                                                                  'activation_271[0][0]']         \n",
            "                                                                                                  \n",
            " activation_272 (Activation)    (None, 5, 5, 192)    0           ['batch_normalization_272[0][0]']\n",
            "                                                                                                  \n",
            " mixed9 (Concatenate)           (None, 5, 5, 2048)   0           ['activation_264[0][0]',         \n",
            "                                                                  'mixed9_0[0][0]',               \n",
            "                                                                  'concatenate_4[0][0]',          \n",
            "                                                                  'activation_272[0][0]']         \n",
            "                                                                                                  \n",
            " conv2d_279 (Conv2D)            (None, 5, 5, 448)    917504      ['mixed9[0][0]']                 \n",
            "                                                                                                  \n",
            " batch_normalization_277 (Batch  (None, 5, 5, 448)   1344        ['conv2d_279[0][0]']             \n",
            " Normalization)                                                                                   \n",
            "                                                                                                  \n",
            " activation_277 (Activation)    (None, 5, 5, 448)    0           ['batch_normalization_277[0][0]']\n",
            "                                                                                                  \n",
            " conv2d_276 (Conv2D)            (None, 5, 5, 384)    786432      ['mixed9[0][0]']                 \n",
            "                                                                                                  \n",
            " conv2d_280 (Conv2D)            (None, 5, 5, 384)    1548288     ['activation_277[0][0]']         \n",
            "                                                                                                  \n",
            " batch_normalization_274 (Batch  (None, 5, 5, 384)   1152        ['conv2d_276[0][0]']             \n",
            " Normalization)                                                                                   \n",
            "                                                                                                  \n",
            " batch_normalization_278 (Batch  (None, 5, 5, 384)   1152        ['conv2d_280[0][0]']             \n",
            " Normalization)                                                                                   \n",
            "                                                                                                  \n",
            " activation_274 (Activation)    (None, 5, 5, 384)    0           ['batch_normalization_274[0][0]']\n",
            "                                                                                                  \n",
            " activation_278 (Activation)    (None, 5, 5, 384)    0           ['batch_normalization_278[0][0]']\n",
            "                                                                                                  \n",
            " conv2d_277 (Conv2D)            (None, 5, 5, 384)    442368      ['activation_274[0][0]']         \n",
            "                                                                                                  \n",
            " conv2d_278 (Conv2D)            (None, 5, 5, 384)    442368      ['activation_274[0][0]']         \n",
            "                                                                                                  \n",
            " conv2d_281 (Conv2D)            (None, 5, 5, 384)    442368      ['activation_278[0][0]']         \n",
            "                                                                                                  \n",
            " conv2d_282 (Conv2D)            (None, 5, 5, 384)    442368      ['activation_278[0][0]']         \n",
            "                                                                                                  \n",
            " average_pooling2d_26 (AverageP  (None, 5, 5, 2048)  0           ['mixed9[0][0]']                 \n",
            " ooling2D)                                                                                        \n",
            "                                                                                                  \n",
            " conv2d_275 (Conv2D)            (None, 5, 5, 320)    655360      ['mixed9[0][0]']                 \n",
            "                                                                                                  \n",
            " batch_normalization_275 (Batch  (None, 5, 5, 384)   1152        ['conv2d_277[0][0]']             \n",
            " Normalization)                                                                                   \n",
            "                                                                                                  \n",
            " batch_normalization_276 (Batch  (None, 5, 5, 384)   1152        ['conv2d_278[0][0]']             \n",
            " Normalization)                                                                                   \n",
            "                                                                                                  \n",
            " batch_normalization_279 (Batch  (None, 5, 5, 384)   1152        ['conv2d_281[0][0]']             \n",
            " Normalization)                                                                                   \n",
            "                                                                                                  \n",
            " batch_normalization_280 (Batch  (None, 5, 5, 384)   1152        ['conv2d_282[0][0]']             \n",
            " Normalization)                                                                                   \n",
            "                                                                                                  \n",
            " conv2d_283 (Conv2D)            (None, 5, 5, 192)    393216      ['average_pooling2d_26[0][0]']   \n",
            "                                                                                                  \n",
            " batch_normalization_273 (Batch  (None, 5, 5, 320)   960         ['conv2d_275[0][0]']             \n",
            " Normalization)                                                                                   \n",
            "                                                                                                  \n",
            " activation_275 (Activation)    (None, 5, 5, 384)    0           ['batch_normalization_275[0][0]']\n",
            "                                                                                                  \n",
            " activation_276 (Activation)    (None, 5, 5, 384)    0           ['batch_normalization_276[0][0]']\n",
            "                                                                                                  \n",
            " activation_279 (Activation)    (None, 5, 5, 384)    0           ['batch_normalization_279[0][0]']\n",
            "                                                                                                  \n",
            " activation_280 (Activation)    (None, 5, 5, 384)    0           ['batch_normalization_280[0][0]']\n",
            "                                                                                                  \n",
            " batch_normalization_281 (Batch  (None, 5, 5, 192)   576         ['conv2d_283[0][0]']             \n",
            " Normalization)                                                                                   \n",
            "                                                                                                  \n",
            " activation_273 (Activation)    (None, 5, 5, 320)    0           ['batch_normalization_273[0][0]']\n",
            "                                                                                                  \n",
            " mixed9_1 (Concatenate)         (None, 5, 5, 768)    0           ['activation_275[0][0]',         \n",
            "                                                                  'activation_276[0][0]']         \n",
            "                                                                                                  \n",
            " concatenate_5 (Concatenate)    (None, 5, 5, 768)    0           ['activation_279[0][0]',         \n",
            "                                                                  'activation_280[0][0]']         \n",
            "                                                                                                  \n",
            " activation_281 (Activation)    (None, 5, 5, 192)    0           ['batch_normalization_281[0][0]']\n",
            "                                                                                                  \n",
            " mixed10 (Concatenate)          (None, 5, 5, 2048)   0           ['activation_273[0][0]',         \n",
            "                                                                  'mixed9_1[0][0]',               \n",
            "                                                                  'concatenate_5[0][0]',          \n",
            "                                                                  'activation_281[0][0]']         \n",
            "                                                                                                  \n",
            " flatten_3 (Flatten)            (None, 51200)        0           ['mixed10[0][0]']                \n",
            "                                                                                                  \n",
            " dense_4 (Dense)                (None, 4)            204804      ['flatten_3[0][0]']              \n",
            "                                                                                                  \n",
            "==================================================================================================\n",
            "Total params: 22,007,588\n",
            "Trainable params: 204,804\n",
            "Non-trainable params: 21,802,784\n",
            "__________________________________________________________________________________________________\n"
          ]
        }
      ],
      "source": [
        "\n",
        "# view the structure of the model\n",
        "model.summary()\n"
      ]
    },
    {
      "cell_type": "code",
      "execution_count": 59,
      "metadata": {
        "id": "vUCzz4vo55GC"
      },
      "outputs": [],
      "source": [
        "# tell the model what cost and optimization method to use\n",
        "model.compile(\n",
        "  loss='categorical_crossentropy',\n",
        "  optimizer='adam',\n",
        "  metrics=['accuracy']\n",
        ")\n"
      ]
    },
    {
      "cell_type": "code",
      "execution_count": 60,
      "metadata": {
        "id": "CuqZyjeB55GF"
      },
      "outputs": [],
      "source": [
        "# Use the Image Data Generator to import the images from the dataset\n",
        "from tensorflow.keras.preprocessing.image import ImageDataGenerator\n",
        "\n",
        "train_datagen = ImageDataGenerator(rescale = 1./255,\n",
        "                                   shear_range = 0.2,\n",
        "                                   zoom_range = 0.2,\n",
        "                                   horizontal_flip = True)\n",
        "\n",
        "test_datagen = ImageDataGenerator(rescale = 1./255)"
      ]
    },
    {
      "cell_type": "code",
      "execution_count": 61,
      "metadata": {
        "colab": {
          "base_uri": "https://localhost:8080/"
        },
        "id": "mfJmxO8G55GH",
        "outputId": "6197045f-4f98-4a30-913b-46caca2092c5"
      },
      "outputs": [
        {
          "output_type": "stream",
          "name": "stdout",
          "text": [
            "Found 314 images belonging to 4 classes.\n"
          ]
        }
      ],
      "source": [
        "# Make sure you provide the same target size as initialied for the image size\n",
        "training_set = train_datagen.flow_from_directory('/content/drive/MyDrive/insect/UPL Assignment/training_images',\n",
        "                                                 target_size = (224, 224),\n",
        "                                                 batch_size = 32,\n",
        "                                                 class_mode = 'input')"
      ]
    },
    {
      "cell_type": "code",
      "execution_count": 62,
      "metadata": {
        "id": "svd3YJ1r55GJ",
        "outputId": "17740127-1108-43b3-8370-b78b13da3a5e",
        "colab": {
          "base_uri": "https://localhost:8080/"
        }
      },
      "outputs": [
        {
          "output_type": "stream",
          "name": "stdout",
          "text": [
            "Found 24 images belonging to 4 classes.\n"
          ]
        }
      ],
      "source": [
        "test_set = test_datagen.flow_from_directory('/content/drive/MyDrive/insect/UPL Assignment/testing_images',\n",
        "                                            target_size = (224, 224),\n",
        "                                            batch_size = 32,\n",
        "                                            class_mode = 'categorical')"
      ]
    },
    {
      "cell_type": "code",
      "source": [
        "training_data_scal = ImageDataGenerator(rescale=1/255)"
      ],
      "metadata": {
        "id": "HsuUtxYDEXBe"
      },
      "execution_count": 63,
      "outputs": []
    },
    {
      "cell_type": "code",
      "source": [
        "tranining_data = training_data_scal.flow_from_directory('/content/drive/MyDrive/insect/UPL Assignment/training_images',\n",
        "                                                       target_size=(256,256),\n",
        "                                                       batch_size=10,\n",
        "                                                      class_mode='categorical')"
      ],
      "metadata": {
        "colab": {
          "base_uri": "https://localhost:8080/"
        },
        "id": "ntLwZnlUEXWJ",
        "outputId": "159f8fa4-c602-4a40-ba79-a6dc59ff5e4f"
      },
      "execution_count": 64,
      "outputs": [
        {
          "output_type": "stream",
          "name": "stdout",
          "text": [
            "Found 314 images belonging to 4 classes.\n"
          ]
        }
      ]
    },
    {
      "cell_type": "code",
      "source": [
        "\n"
      ],
      "metadata": {
        "id": "ykhQVnr2G6ph"
      },
      "execution_count": 64,
      "outputs": []
    },
    {
      "cell_type": "code",
      "source": [
        "!pip install keras"
      ],
      "metadata": {
        "colab": {
          "base_uri": "https://localhost:8080/"
        },
        "id": "QLmGB9kgLLTa",
        "outputId": "fd31c116-8cca-4b69-d195-23985f16b78a"
      },
      "execution_count": 65,
      "outputs": [
        {
          "output_type": "stream",
          "name": "stdout",
          "text": [
            "Requirement already satisfied: keras in /usr/local/lib/python3.7/dist-packages (2.7.0)\n"
          ]
        }
      ]
    },
    {
      "cell_type": "code",
      "source": [
        "from tensorflow.keras.optimizers import SGD"
      ],
      "metadata": {
        "id": "hKLKmNlfMLGG"
      },
      "execution_count": 66,
      "outputs": []
    },
    {
      "cell_type": "code",
      "source": [
        "#fit_generator(generator, epochs, steps_per_epoch, validation_data, validation_steps)"
      ],
      "metadata": {
        "id": "jYG7KLGmNAwZ"
      },
      "execution_count": 67,
      "outputs": []
    },
    {
      "cell_type": "code",
      "source": [
        "from tensorflow.keras import layers\n",
        "model = tf.keras.models.Sequential([layers.Conv2D(32,(3,3),activation='relu',input_shape=(256,256,3)),\n",
        "                                   layers.MaxPool2D(2,2),\n",
        "                                   layers.Conv2D(16,(3,3),activation='relu'),\n",
        "                                   layers.MaxPool2D(2,2),\n",
        "                                   layers.Flatten(),\n",
        "                                   layers.Dense(512,activation='relu'),\n",
        "                                   layers.Dense(4,activation='softmax')])"
      ],
      "metadata": {
        "id": "Jp8cVYDPCd5E"
      },
      "execution_count": 68,
      "outputs": []
    },
    {
      "cell_type": "code",
      "source": [
        "model.summary()"
      ],
      "metadata": {
        "colab": {
          "base_uri": "https://localhost:8080/"
        },
        "id": "yf9KZ9OoDA8q",
        "outputId": "0cd027f8-fa67-433c-ff26-a6945777b9c5"
      },
      "execution_count": 69,
      "outputs": [
        {
          "output_type": "stream",
          "name": "stdout",
          "text": [
            "Model: \"sequential_1\"\n",
            "_________________________________________________________________\n",
            " Layer (type)                Output Shape              Param #   \n",
            "=================================================================\n",
            " conv2d_284 (Conv2D)         (None, 254, 254, 32)      896       \n",
            "                                                                 \n",
            " max_pooling2d_14 (MaxPoolin  (None, 127, 127, 32)     0         \n",
            " g2D)                                                            \n",
            "                                                                 \n",
            " conv2d_285 (Conv2D)         (None, 125, 125, 16)      4624      \n",
            "                                                                 \n",
            " max_pooling2d_15 (MaxPoolin  (None, 62, 62, 16)       0         \n",
            " g2D)                                                            \n",
            "                                                                 \n",
            " flatten_4 (Flatten)         (None, 61504)             0         \n",
            "                                                                 \n",
            " dense_5 (Dense)             (None, 512)               31490560  \n",
            "                                                                 \n",
            " dense_6 (Dense)             (None, 4)                 2052      \n",
            "                                                                 \n",
            "=================================================================\n",
            "Total params: 31,498,132\n",
            "Trainable params: 31,498,132\n",
            "Non-trainable params: 0\n",
            "_________________________________________________________________\n"
          ]
        }
      ]
    },
    {
      "cell_type": "code",
      "source": [
        "model.compile(optimizer='Adam',loss='categorical_crossentropy',metrics=['acc'])"
      ],
      "metadata": {
        "id": "4ynUJg0KDCB1"
      },
      "execution_count": 70,
      "outputs": []
    },
    {
      "cell_type": "code",
      "source": [
        "history=model.fit_generator(tranining_data,\n",
        "                    epochs=15,\n",
        "                    steps_per_epoch=10,\n",
        "                   verbose=1)\n"
      ],
      "metadata": {
        "colab": {
          "base_uri": "https://localhost:8080/"
        },
        "id": "GAdgRG9nDNYY",
        "outputId": "ca553dd6-72ba-4b45-b7f0-05dbe610dc9b"
      },
      "execution_count": 80,
      "outputs": [
        {
          "output_type": "stream",
          "name": "stderr",
          "text": [
            "/usr/local/lib/python3.7/dist-packages/ipykernel_launcher.py:4: UserWarning: `Model.fit_generator` is deprecated and will be removed in a future version. Please use `Model.fit`, which supports generators.\n",
            "  after removing the cwd from sys.path.\n"
          ]
        },
        {
          "output_type": "stream",
          "name": "stdout",
          "text": [
            "Epoch 1/15\n",
            "10/10 [==============================] - 19s 2s/step - loss: 0.0579 - acc: 0.9787\n",
            "Epoch 2/15\n",
            "10/10 [==============================] - 19s 2s/step - loss: 0.0368 - acc: 0.9900\n",
            "Epoch 3/15\n",
            "10/10 [==============================] - 20s 2s/step - loss: 0.0608 - acc: 0.9700\n",
            "Epoch 4/15\n",
            "10/10 [==============================] - 18s 2s/step - loss: 0.0918 - acc: 0.9681\n",
            "Epoch 5/15\n",
            "10/10 [==============================] - 20s 2s/step - loss: 0.0626 - acc: 0.9900\n",
            "Epoch 6/15\n",
            "10/10 [==============================] - 20s 2s/step - loss: 0.0658 - acc: 0.9800\n",
            "Epoch 7/15\n",
            "10/10 [==============================] - 20s 2s/step - loss: 0.0539 - acc: 0.9900\n",
            "Epoch 8/15\n",
            "10/10 [==============================] - 20s 2s/step - loss: 0.0944 - acc: 0.9800\n",
            "Epoch 9/15\n",
            "10/10 [==============================] - 20s 2s/step - loss: 0.1117 - acc: 0.9900\n",
            "Epoch 10/15\n",
            "10/10 [==============================] - 18s 2s/step - loss: 0.0540 - acc: 1.0000\n",
            "Epoch 11/15\n",
            "10/10 [==============================] - 18s 2s/step - loss: 0.0526 - acc: 0.9800\n",
            "Epoch 12/15\n",
            "10/10 [==============================] - 18s 2s/step - loss: 0.0743 - acc: 0.9787\n",
            "Epoch 13/15\n",
            "10/10 [==============================] - 24s 2s/step - loss: 0.0992 - acc: 0.9900\n",
            "Epoch 14/15\n",
            "10/10 [==============================] - 21s 2s/step - loss: 0.0599 - acc: 1.0000\n",
            "Epoch 15/15\n",
            "10/10 [==============================] - 19s 2s/step - loss: 0.0155 - acc: 1.0000\n"
          ]
        }
      ]
    },
    {
      "cell_type": "code",
      "execution_count": 79,
      "metadata": {
        "scrolled": true,
        "id": "aCLjrGsf55GK",
        "outputId": "b405ae5c-f8ad-4597-fde3-71f8e4fb45f0",
        "colab": {
          "base_uri": "https://localhost:8080/",
          "height": 53
        }
      },
      "outputs": [
        {
          "output_type": "execute_result",
          "data": {
            "application/vnd.google.colaboratory.intrinsic+json": {
              "type": "string"
            },
            "text/plain": [
              "'\\nr = model.fit_generator(\\n  training_data,\\n  validation_data=test_set,\\n  epochs=10,\\n  steps_per_epoch=2)\\n # validation_data=4)\\n  # verbose=1 ) \\n  #callbacks=None\\n#)\\n\\n#validation_steps=len(test_set)\\n#\\n'"
            ]
          },
          "metadata": {},
          "execution_count": 79
        }
      ],
      "source": [
        "# fit the model\n",
        "# Run the cell. It will take some time to execute'''\n",
        "'''\n",
        "r = model.fit_generator(\n",
        "  training_data,\n",
        "  validation_data=test_set,\n",
        "  epochs=10,\n",
        "  steps_per_epoch=2)\n",
        " # validation_data=4)\n",
        "  # verbose=1 ) \n",
        "  #callbacks=None\n",
        "#)\n",
        "\n",
        "#validation_steps=len(test_set)\n",
        "#\n",
        "'''"
      ]
    },
    {
      "cell_type": "code",
      "execution_count": null,
      "metadata": {
        "id": "yv7GhkPS55GM"
      },
      "outputs": [],
      "source": [
        "import matplotlib.pyplot as plt"
      ]
    },
    {
      "cell_type": "code",
      "execution_count": null,
      "metadata": {
        "id": "Z39IJOUy55GN"
      },
      "outputs": [],
      "source": [
        "# plot the loss\n",
        "'''\n",
        "plt.plot(r.history['loss'], label='train loss')\n",
        "plt.plot(r.history['val_loss'], label='val loss')\n",
        "plt.legend()\n",
        "plt.show()\n",
        "plt.savefig('LossVal_loss')\n",
        "\n",
        "# plot the accuracy\n",
        "plt.plot(r.history['accuracy'], label='train acc')\n",
        "plt.plot(r.history['val_accuracy'], label='val acc')\n",
        "plt.legend()\n",
        "plt.show()\n",
        "plt.savefig('AccVal_acc')\n",
        "'''"
      ]
    }
  ],
  "metadata": {
    "kernelspec": {
      "display_name": "Python 3",
      "language": "python",
      "name": "python3"
    },
    "language_info": {
      "codemirror_mode": {
        "name": "ipython",
        "version": 3
      },
      "file_extension": ".py",
      "mimetype": "text/x-python",
      "name": "python",
      "nbconvert_exporter": "python",
      "pygments_lexer": "ipython3",
      "version": "3.7.7"
    },
    "colab": {
      "name": "Transfer Learning Inception finale.ipynb",
      "provenance": [],
      "collapsed_sections": []
    },
    "accelerator": "GPU"
  },
  "nbformat": 4,
  "nbformat_minor": 0
}